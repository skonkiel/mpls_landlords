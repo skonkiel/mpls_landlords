{
 "cells": [
  {
   "cell_type": "code",
   "execution_count": 1,
   "metadata": {},
   "outputs": [
    {
     "name": "stdout",
     "output_type": "stream",
     "text": [
      "Requirement already up-to-date: pandas in /opt/anaconda3/envs/PythonData/lib/python3.8/site-packages (1.3.4)\n",
      "Requirement already up-to-date: numpy in /opt/anaconda3/envs/PythonData/lib/python3.8/site-packages (1.21.3)\n",
      "Requirement already up-to-date: matplotlib in /opt/anaconda3/envs/PythonData/lib/python3.8/site-packages (3.4.3)\n",
      "Requirement already up-to-date: seaborn in /opt/anaconda3/envs/PythonData/lib/python3.8/site-packages (0.11.2)\n",
      "Requirement already satisfied, skipping upgrade: pytz>=2017.3 in /opt/anaconda3/envs/PythonData/lib/python3.8/site-packages (from pandas) (2021.3)\n",
      "Requirement already satisfied, skipping upgrade: python-dateutil>=2.7.3 in /opt/anaconda3/envs/PythonData/lib/python3.8/site-packages (from pandas) (2.8.1)\n",
      "Requirement already satisfied, skipping upgrade: pyparsing>=2.2.1 in /opt/anaconda3/envs/PythonData/lib/python3.8/site-packages (from matplotlib) (3.0.3)\n",
      "Requirement already satisfied, skipping upgrade: cycler>=0.10 in /opt/anaconda3/envs/PythonData/lib/python3.8/site-packages (from matplotlib) (0.10.0)\n",
      "Requirement already satisfied, skipping upgrade: kiwisolver>=1.0.1 in /opt/anaconda3/envs/PythonData/lib/python3.8/site-packages (from matplotlib) (1.3.2)\n",
      "Requirement already satisfied, skipping upgrade: pillow>=6.2.0 in /opt/anaconda3/envs/PythonData/lib/python3.8/site-packages (from matplotlib) (8.4.0)\n",
      "Requirement already satisfied, skipping upgrade: scipy>=1.0 in /opt/anaconda3/envs/PythonData/lib/python3.8/site-packages (from seaborn) (1.7.1)\n",
      "Requirement already satisfied, skipping upgrade: six>=1.5 in /opt/anaconda3/envs/PythonData/lib/python3.8/site-packages (from python-dateutil>=2.7.3->pandas) (1.16.0)\n"
     ]
    }
   ],
   "source": [
    "import sys\n",
    "!{sys.executable} -m pip install -U pandas numpy matplotlib seaborn numpy\n",
    "\n",
    "import pandas as pd\n",
    "import matplotlib.pyplot as plt\n",
    "import seaborn as sns\n",
    "\n",
    "import csv\n",
    "import numpy as np\n",
    "\n",
    "sns.set_context(font_scale=1.5, rc={\"lines.linewidth\": 2.5})"
   ]
  },
  {
   "cell_type": "markdown",
   "metadata": {},
   "source": [
    "## Initial dataset cleaning"
   ]
  },
  {
   "cell_type": "code",
   "execution_count": 3,
   "metadata": {},
   "outputs": [
    {
     "data": {
      "text/html": [
       "<div>\n",
       "<style scoped>\n",
       "    .dataframe tbody tr th:only-of-type {\n",
       "        vertical-align: middle;\n",
       "    }\n",
       "\n",
       "    .dataframe tbody tr th {\n",
       "        vertical-align: top;\n",
       "    }\n",
       "\n",
       "    .dataframe thead th {\n",
       "        text-align: right;\n",
       "    }\n",
       "</style>\n",
       "<table border=\"1\" class=\"dataframe\">\n",
       "  <thead>\n",
       "    <tr style=\"text-align: right;\">\n",
       "      <th></th>\n",
       "      <th>APN</th>\n",
       "      <th>ANUMBER</th>\n",
       "      <th>ST_NAME</th>\n",
       "      <th>AUNIT</th>\n",
       "      <th>ZIPCODE</th>\n",
       "      <th>FORMATTED_ADDRESS</th>\n",
       "      <th>OWNERNAME</th>\n",
       "      <th>TAXPAYER1</th>\n",
       "      <th>TAXPAYER2</th>\n",
       "      <th>TAXPAYER3</th>\n",
       "      <th>...</th>\n",
       "      <th>PROPERTY_TYPE</th>\n",
       "      <th>LANDVALUE</th>\n",
       "      <th>BUILDINGVALUE</th>\n",
       "      <th>TOTALVALUE</th>\n",
       "      <th>MULTIPLE_USES</th>\n",
       "      <th>EXEMPTSTATUS</th>\n",
       "      <th>HOMESTEAD</th>\n",
       "      <th>BUILDINGUSE</th>\n",
       "      <th>TOTAL_UNITS</th>\n",
       "      <th>BEDROOMS</th>\n",
       "    </tr>\n",
       "  </thead>\n",
       "  <tbody>\n",
       "    <tr>\n",
       "      <th>0</th>\n",
       "      <td>2102924340090</td>\n",
       "      <td>187</td>\n",
       "      <td>HUMBOLDT AVE N</td>\n",
       "      <td>NaN</td>\n",
       "      <td>55405-1808</td>\n",
       "      <td>187 HUMBOLDT AVE N</td>\n",
       "      <td>CARL ELLER</td>\n",
       "      <td>CARL ELLER</td>\n",
       "      <td>1035 WASHBURN AVE N</td>\n",
       "      <td>MINNEAPOLIS MN   55411</td>\n",
       "      <td>...</td>\n",
       "      <td>VACANT LAND - APARTMENT</td>\n",
       "      <td>425300</td>\n",
       "      <td>0</td>\n",
       "      <td>425300</td>\n",
       "      <td>NO</td>\n",
       "      <td>NOT EXEMPT</td>\n",
       "      <td>NON-HOMESTEADED</td>\n",
       "      <td>NaN</td>\n",
       "      <td>0.0</td>\n",
       "      <td>0</td>\n",
       "    </tr>\n",
       "    <tr>\n",
       "      <th>1</th>\n",
       "      <td>2202924240044</td>\n",
       "      <td>706</td>\n",
       "      <td>5TH ST N</td>\n",
       "      <td>NaN</td>\n",
       "      <td>55401-1125</td>\n",
       "      <td>706 5TH ST N</td>\n",
       "      <td>700 FIFTH LLC</td>\n",
       "      <td>700 FIFTH LLC</td>\n",
       "      <td>900 NORTH 3RD ST</td>\n",
       "      <td>MINNEAPOLIS MN  55401</td>\n",
       "      <td>...</td>\n",
       "      <td>VACANT LAND - COMMERCIAL</td>\n",
       "      <td>1192000</td>\n",
       "      <td>0</td>\n",
       "      <td>1192000</td>\n",
       "      <td>NO</td>\n",
       "      <td>NOT EXEMPT</td>\n",
       "      <td>NON-HOMESTEADED</td>\n",
       "      <td>NaN</td>\n",
       "      <td>0.0</td>\n",
       "      <td>0</td>\n",
       "    </tr>\n",
       "    <tr>\n",
       "      <th>2</th>\n",
       "      <td>3602924430092</td>\n",
       "      <td>2904</td>\n",
       "      <td>28TH AVE S</td>\n",
       "      <td>NaN</td>\n",
       "      <td>55406-1516</td>\n",
       "      <td>2904 28TH AVE S</td>\n",
       "      <td>MINNEHAHA CROSSING LLC</td>\n",
       "      <td>MINNEHAHA CROSSING LLC</td>\n",
       "      <td>1625 ENERGY PARK DR #100</td>\n",
       "      <td>ST PAUL MN   55108</td>\n",
       "      <td>...</td>\n",
       "      <td>COMMERCIAL</td>\n",
       "      <td>1475500</td>\n",
       "      <td>6324500</td>\n",
       "      <td>7800000</td>\n",
       "      <td>NO</td>\n",
       "      <td>NOT EXEMPT</td>\n",
       "      <td>NON-HOMESTEADED</td>\n",
       "      <td>NaN</td>\n",
       "      <td>0.0</td>\n",
       "      <td>0</td>\n",
       "    </tr>\n",
       "  </tbody>\n",
       "</table>\n",
       "<p>3 rows × 29 columns</p>\n",
       "</div>"
      ],
      "text/plain": [
       "             APN ANUMBER         ST_NAME AUNIT     ZIPCODE  \\\n",
       "0  2102924340090     187  HUMBOLDT AVE N   NaN  55405-1808   \n",
       "1  2202924240044     706        5TH ST N   NaN  55401-1125   \n",
       "2  3602924430092    2904      28TH AVE S   NaN  55406-1516   \n",
       "\n",
       "    FORMATTED_ADDRESS               OWNERNAME               TAXPAYER1  \\\n",
       "0  187 HUMBOLDT AVE N              CARL ELLER              CARL ELLER   \n",
       "1        706 5TH ST N           700 FIFTH LLC           700 FIFTH LLC   \n",
       "2     2904 28TH AVE S  MINNEHAHA CROSSING LLC  MINNEHAHA CROSSING LLC   \n",
       "\n",
       "                  TAXPAYER2               TAXPAYER3  ...  \\\n",
       "0       1035 WASHBURN AVE N  MINNEAPOLIS MN   55411  ...   \n",
       "1          900 NORTH 3RD ST   MINNEAPOLIS MN  55401  ...   \n",
       "2  1625 ENERGY PARK DR #100      ST PAUL MN   55108  ...   \n",
       "\n",
       "              PROPERTY_TYPE LANDVALUE BUILDINGVALUE  TOTALVALUE MULTIPLE_USES  \\\n",
       "0   VACANT LAND - APARTMENT    425300             0      425300            NO   \n",
       "1  VACANT LAND - COMMERCIAL   1192000             0     1192000            NO   \n",
       "2                COMMERCIAL   1475500       6324500     7800000            NO   \n",
       "\n",
       "  EXEMPTSTATUS        HOMESTEAD  BUILDINGUSE  TOTAL_UNITS BEDROOMS  \n",
       "0   NOT EXEMPT  NON-HOMESTEADED          NaN          0.0        0  \n",
       "1   NOT EXEMPT  NON-HOMESTEADED          NaN          0.0        0  \n",
       "2   NOT EXEMPT  NON-HOMESTEADED          NaN          0.0        0  \n",
       "\n",
       "[3 rows x 29 columns]"
      ]
     },
     "execution_count": 3,
     "metadata": {},
     "output_type": "execute_result"
    }
   ],
   "source": [
    "df = pd.read_csv('./data/Assessors_Parcel_Data_2020.csv', low_memory=False)\n",
    "\n",
    "# Drop unneeded columns\n",
    "properties_df = df[['APN', 'ANUMBER', 'ST_NAME', 'AUNIT',\n",
    "       'ZIPCODE', 'FORMATTED_ADDRESS', 'OWNERNAME', 'TAXPAYER1', 'TAXPAYER2',\n",
    "       'TAXPAYER3', 'TAXPAYER4', 'NEIGHBORHOOD', 'COMMUNITY', 'WARD',\n",
    "       'ZONING', 'LANDUSE', 'PARCEL_AREA_SQFT', 'X', 'Y', 'PROPERTY_TYPE',\n",
    "       'LANDVALUE', 'BUILDINGVALUE', 'TOTALVALUE', 'MULTIPLE_USES',\n",
    "       'EXEMPTSTATUS', 'HOMESTEAD', 'BUILDINGUSE', 'TOTAL_UNITS', 'BEDROOMS']]\n",
    "properties_df.head(3) \n",
    "\n",
    "# This gives us all city properties, not just residential"
   ]
  },
  {
   "cell_type": "code",
   "execution_count": 4,
   "metadata": {},
   "outputs": [],
   "source": [
    "# Get just residential homes - check if property_type column includes the following\n",
    "prop_types = ['RESIDENTIAL', 'CONDOMINIUM', 'DOUBLE BUNGALOW', 'APARTMENT', \n",
    "             'COOPERATIVE', 'TOWNHOUSE', 'TRIPLEX', 'RESIDENTIAL MISC', 'RESIDENTIAL LAKE SHORE']\n",
    "\n",
    "residential = properties_df[properties_df['PROPERTY_TYPE'].isin(prop_types)]"
   ]
  },
  {
   "cell_type": "code",
   "execution_count": 5,
   "metadata": {},
   "outputs": [],
   "source": [
    "# Remove city-owned properties (though you might want to leave this in!)\n",
    "# City properties = where taxpayer is city-related\n",
    "city_owners = ['MPLS PUBLIC HOUSING AUTH', 'CITY OF MINNEAPOLIS', 'MINNEAPOLIS PUBLIC HSG AUTH', \n",
    "               'MPLS PUBLIC HSG AUTHORITY', 'MPLS PUBLIC HSG AUTH', 'MPLS PARK & RECREATION BOARD', \n",
    "               'MPLS PUBLIC HSG ATHY', 'HENNEPIN FORFEITED LAND', 'MINNEAPOLIS PUBLIC HSNG AUTH'\n",
    "               'HENN CTY HSG & RDVLPT ATHY', 'HENN CO HSG & REDEV AUTH', 'MPLS PARK BOARD', 'HENNEPIN COUNTY',\n",
    "               'HENNEPIN FORFEITED LAND', 'MPLS PUBLIC HSG AUTH/MPLS', 'MPLS PUB HSG AUTH/CITY MPLS', \n",
    "               'MPLS PUBLIC HSG AUTH', 'MPLS PUBLIC HOUSING', 'MPLS PUBLIC HOUSING AUTHORTY', \n",
    "               'MPLS PUB HSNG AUTH FOR MPLS', 'CITY OF MPLS PK BD', 'CITY OF MPLS PARK BOARD',\n",
    "               'MINNEAPOLIS PUBLIC HSNG AUTH']\n",
    "\n",
    "city_owned = residential[residential['OWNERNAME'].isin(city_owners)]"
   ]
  },
  {
   "cell_type": "code",
   "execution_count": 6,
   "metadata": {},
   "outputs": [],
   "source": [
    "# Segment out corporate vs \"mom and pop\" landlords\n",
    "\n",
    "# \"Mom and pop\" landlords = \"Homesteaded\" (owners live on the property) where units > 1\n",
    "mom_pop = residential[(residential['TOTAL_UNITS'] > 1) & (residential['HOMESTEAD'] == 'HOMESTEADED')]\n",
    "\n",
    "# Corporate owners = residential properties that are not city owned nor homesteaded\n",
    "corporate = residential[~residential['OWNERNAME'].isin(city_owners)]\n",
    "corporate = corporate[corporate['HOMESTEAD'] == 'NON-HOMESTEADED']"
   ]
  },
  {
   "cell_type": "markdown",
   "metadata": {},
   "source": [
    "## Data cleaning magic + Open Refine\n",
    "Next, I complete other pandas-based data cleaning steps, then import the data to Open Refine to further clean the data and associate properties with landlords. I'm not going to share this process publicly, because I'd hate to help shady landlords find ways to better hide their ownership of properties. If you're a housing advocate or renter who wants to learn more, [email me](mailto:hello@stacykonkiel.org).\n",
    "\n",
    "Once data cleaning is complete, I export the landlord data to a `cleaned_corporate.csv` file."
   ]
  },
  {
   "cell_type": "markdown",
   "metadata": {},
   "source": [
    "## Data analysis"
   ]
  },
  {
   "cell_type": "code",
   "execution_count": 7,
   "metadata": {},
   "outputs": [
    {
     "data": {
      "text/html": [
       "<div>\n",
       "<style scoped>\n",
       "    .dataframe tbody tr th:only-of-type {\n",
       "        vertical-align: middle;\n",
       "    }\n",
       "\n",
       "    .dataframe tbody tr th {\n",
       "        vertical-align: top;\n",
       "    }\n",
       "\n",
       "    .dataframe thead th {\n",
       "        text-align: right;\n",
       "    }\n",
       "</style>\n",
       "<table border=\"1\" class=\"dataframe\">\n",
       "  <thead>\n",
       "    <tr style=\"text-align: right;\">\n",
       "      <th></th>\n",
       "      <th>APN</th>\n",
       "      <th>ANUMBER</th>\n",
       "      <th>ST_NAME</th>\n",
       "      <th>AUNIT</th>\n",
       "      <th>ZIPCODE</th>\n",
       "      <th>FORMATTED_ADDRESS</th>\n",
       "      <th>OWNERNAME</th>\n",
       "      <th>TAXPAYER1</th>\n",
       "      <th>TAXPAYER2</th>\n",
       "      <th>TAXPAYER3</th>\n",
       "      <th>...</th>\n",
       "      <th>LANDVALUE</th>\n",
       "      <th>BUILDINGVALUE</th>\n",
       "      <th>TOTALVALUE</th>\n",
       "      <th>MULTIPLE_USES</th>\n",
       "      <th>EXEMPTSTATUS</th>\n",
       "      <th>HOMESTEAD</th>\n",
       "      <th>BUILDINGUSE</th>\n",
       "      <th>TOTAL_UNITS</th>\n",
       "      <th>BEDROOMS</th>\n",
       "      <th>TAXPAYER_ADDRESS_STREET</th>\n",
       "    </tr>\n",
       "  </thead>\n",
       "  <tbody>\n",
       "    <tr>\n",
       "      <th>0</th>\n",
       "      <td>102824230128</td>\n",
       "      <td>3304</td>\n",
       "      <td>19TH AVE S</td>\n",
       "      <td>NaN</td>\n",
       "      <td>55407-2449</td>\n",
       "      <td>3304 19TH AVE S</td>\n",
       "      <td>DOUGLAS R RYAN TRUSTEE</td>\n",
       "      <td>DOUGLAS RYAN</td>\n",
       "      <td>700 285TH AVE N W</td>\n",
       "      <td>ISANTI MN 55040</td>\n",
       "      <td>...</td>\n",
       "      <td>36300</td>\n",
       "      <td>181700</td>\n",
       "      <td>218000</td>\n",
       "      <td>NO</td>\n",
       "      <td>NOT EXEMPT</td>\n",
       "      <td>NON-HOMESTEADED</td>\n",
       "      <td>DOUBLE BUNGALOW</td>\n",
       "      <td>2.0</td>\n",
       "      <td>2</td>\n",
       "      <td>700 285TH AVE N W</td>\n",
       "    </tr>\n",
       "    <tr>\n",
       "      <th>1</th>\n",
       "      <td>102824230129</td>\n",
       "      <td>3308</td>\n",
       "      <td>19TH AVE S</td>\n",
       "      <td>NaN</td>\n",
       "      <td>55407-2449</td>\n",
       "      <td>3308 19TH AVE S</td>\n",
       "      <td>TC COMM HOUSING SERVICES LLC</td>\n",
       "      <td>TC COMM HOUSING SERVCS LLC</td>\n",
       "      <td>9705 45TH AVE N 41813</td>\n",
       "      <td>MINNEAPOLIS MN 55441</td>\n",
       "      <td>...</td>\n",
       "      <td>75100</td>\n",
       "      <td>399900</td>\n",
       "      <td>475000</td>\n",
       "      <td>NO</td>\n",
       "      <td>NOT EXEMPT</td>\n",
       "      <td>NON-HOMESTEADED</td>\n",
       "      <td>APARTMENT 4 OR 5 UNIT</td>\n",
       "      <td>4.0</td>\n",
       "      <td>0</td>\n",
       "      <td>9705 45TH AVE N 41813</td>\n",
       "    </tr>\n",
       "    <tr>\n",
       "      <th>2</th>\n",
       "      <td>102824230134</td>\n",
       "      <td>3319</td>\n",
       "      <td>LONGFELLOW AVE</td>\n",
       "      <td>NaN</td>\n",
       "      <td>55407-2341</td>\n",
       "      <td>3319 LONGFELLOW AVE</td>\n",
       "      <td>RONALD A TANN JR</td>\n",
       "      <td>RONALD A TANN JR</td>\n",
       "      <td>4049 LAZY STREAM CT</td>\n",
       "      <td>CHESTER VA 23831</td>\n",
       "      <td>...</td>\n",
       "      <td>12800</td>\n",
       "      <td>262200</td>\n",
       "      <td>275000</td>\n",
       "      <td>NO</td>\n",
       "      <td>NOT EXEMPT</td>\n",
       "      <td>NON-HOMESTEADED</td>\n",
       "      <td>2 FAM. CONV. SGL. DWLG.</td>\n",
       "      <td>2.0</td>\n",
       "      <td>4</td>\n",
       "      <td>4049 LAZY STREAM CT</td>\n",
       "    </tr>\n",
       "    <tr>\n",
       "      <th>3</th>\n",
       "      <td>102824230137</td>\n",
       "      <td>3309</td>\n",
       "      <td>LONGFELLOW AVE</td>\n",
       "      <td>NaN</td>\n",
       "      <td>55407-2341</td>\n",
       "      <td>3309 LONGFELLOW AVE</td>\n",
       "      <td>SAI ZHEN YANG</td>\n",
       "      <td>SAI ZHEN YANG</td>\n",
       "      <td>159 WATERFORD CIR</td>\n",
       "      <td>WINONA MN 55987</td>\n",
       "      <td>...</td>\n",
       "      <td>37200</td>\n",
       "      <td>211800</td>\n",
       "      <td>249000</td>\n",
       "      <td>NO</td>\n",
       "      <td>NOT EXEMPT</td>\n",
       "      <td>NON-HOMESTEADED</td>\n",
       "      <td>SINGLE FAM. DWLG.</td>\n",
       "      <td>1.0</td>\n",
       "      <td>3</td>\n",
       "      <td>159 WATERFORD CIR</td>\n",
       "    </tr>\n",
       "    <tr>\n",
       "      <th>4</th>\n",
       "      <td>102824230145</td>\n",
       "      <td>3320</td>\n",
       "      <td>LONGFELLOW AVE</td>\n",
       "      <td>NaN</td>\n",
       "      <td>55407-2354</td>\n",
       "      <td>3320 LONGFELLOW AVE</td>\n",
       "      <td>LONNY G &amp; KATHRYN M DOUB</td>\n",
       "      <td>LONNY G DOUB/KATHRYN M DOUB</td>\n",
       "      <td>3750 CEDAR AVE</td>\n",
       "      <td>MINNEAPOLIS MN 55407</td>\n",
       "      <td>...</td>\n",
       "      <td>225200</td>\n",
       "      <td>2696800</td>\n",
       "      <td>2922000</td>\n",
       "      <td>NO</td>\n",
       "      <td>NOT EXEMPT</td>\n",
       "      <td>NON-HOMESTEADED</td>\n",
       "      <td>APARTMENT 6+ UNIT</td>\n",
       "      <td>22.0</td>\n",
       "      <td>0</td>\n",
       "      <td>3750 CEDAR AVE</td>\n",
       "    </tr>\n",
       "  </tbody>\n",
       "</table>\n",
       "<p>5 rows × 30 columns</p>\n",
       "</div>"
      ],
      "text/plain": [
       "            APN ANUMBER         ST_NAME AUNIT     ZIPCODE  \\\n",
       "0  102824230128    3304      19TH AVE S   NaN  55407-2449   \n",
       "1  102824230129    3308      19TH AVE S   NaN  55407-2449   \n",
       "2  102824230134    3319  LONGFELLOW AVE   NaN  55407-2341   \n",
       "3  102824230137    3309  LONGFELLOW AVE   NaN  55407-2341   \n",
       "4  102824230145    3320  LONGFELLOW AVE   NaN  55407-2354   \n",
       "\n",
       "     FORMATTED_ADDRESS                     OWNERNAME  \\\n",
       "0      3304 19TH AVE S        DOUGLAS R RYAN TRUSTEE   \n",
       "1      3308 19TH AVE S  TC COMM HOUSING SERVICES LLC   \n",
       "2  3319 LONGFELLOW AVE              RONALD A TANN JR   \n",
       "3  3309 LONGFELLOW AVE                 SAI ZHEN YANG   \n",
       "4  3320 LONGFELLOW AVE      LONNY G & KATHRYN M DOUB   \n",
       "\n",
       "                     TAXPAYER1              TAXPAYER2             TAXPAYER3  \\\n",
       "0                 DOUGLAS RYAN      700 285TH AVE N W       ISANTI MN 55040   \n",
       "1   TC COMM HOUSING SERVCS LLC  9705 45TH AVE N 41813  MINNEAPOLIS MN 55441   \n",
       "2             RONALD A TANN JR    4049 LAZY STREAM CT      CHESTER VA 23831   \n",
       "3                SAI ZHEN YANG      159 WATERFORD CIR       WINONA MN 55987   \n",
       "4  LONNY G DOUB/KATHRYN M DOUB         3750 CEDAR AVE  MINNEAPOLIS MN 55407   \n",
       "\n",
       "   ... LANDVALUE BUILDINGVALUE TOTALVALUE  MULTIPLE_USES EXEMPTSTATUS  \\\n",
       "0  ...     36300        181700     218000             NO   NOT EXEMPT   \n",
       "1  ...     75100        399900     475000             NO   NOT EXEMPT   \n",
       "2  ...     12800        262200     275000             NO   NOT EXEMPT   \n",
       "3  ...     37200        211800     249000             NO   NOT EXEMPT   \n",
       "4  ...    225200       2696800    2922000             NO   NOT EXEMPT   \n",
       "\n",
       "         HOMESTEAD              BUILDINGUSE  TOTAL_UNITS  BEDROOMS  \\\n",
       "0  NON-HOMESTEADED          DOUBLE BUNGALOW          2.0         2   \n",
       "1  NON-HOMESTEADED    APARTMENT 4 OR 5 UNIT          4.0         0   \n",
       "2  NON-HOMESTEADED  2 FAM. CONV. SGL. DWLG.          2.0         4   \n",
       "3  NON-HOMESTEADED        SINGLE FAM. DWLG.          1.0         3   \n",
       "4  NON-HOMESTEADED        APARTMENT 6+ UNIT         22.0         0   \n",
       "\n",
       "  TAXPAYER_ADDRESS_STREET  \n",
       "0       700 285TH AVE N W  \n",
       "1   9705 45TH AVE N 41813  \n",
       "2     4049 LAZY STREAM CT  \n",
       "3       159 WATERFORD CIR  \n",
       "4          3750 CEDAR AVE  \n",
       "\n",
       "[5 rows x 30 columns]"
      ]
     },
     "execution_count": 7,
     "metadata": {},
     "output_type": "execute_result"
    }
   ],
   "source": [
    "# Reimport the cleaned data\n",
    "corporates = pd.read_csv('./data/cleaned_corporate.csv')\n",
    "corporates.head()"
   ]
  },
  {
   "cell_type": "code",
   "execution_count": 9,
   "metadata": {},
   "outputs": [],
   "source": [
    "# Reimport all residential property data (if needed)\n",
    "residential_types = ['RESIDENTIAL', 'CONDOMINIUM', 'DOUBLE BUNGALOW',\n",
    "                    'APARTMENT', 'TRIPLEX', 'COOPERATIVE',\n",
    "                    'TOWNHOUSE', 'RESIDENTIAL MISC', 'RESIDENTIAL LAKE SHORE']\n",
    "\n",
    "all_properties = pd.read_csv('./data/Assessors_Parcel_Data_2020.csv', low_memory=False)\n",
    "all_properties = all_properties[all_properties['PROPERTY_TYPE'].isin(residential_types)]"
   ]
  },
  {
   "cell_type": "markdown",
   "metadata": {},
   "source": [
    "Let's get a quick look at the data."
   ]
  },
  {
   "cell_type": "code",
   "execution_count": 10,
   "metadata": {},
   "outputs": [
    {
     "data": {
      "text/plain": [
       "APN                          int64\n",
       "ANUMBER                     object\n",
       "ST_NAME                     object\n",
       "AUNIT                       object\n",
       "ZIPCODE                     object\n",
       "FORMATTED_ADDRESS           object\n",
       "OWNERNAME                   object\n",
       "TAXPAYER1                   object\n",
       "TAXPAYER2                   object\n",
       "TAXPAYER3                   object\n",
       "TAXPAYER4                   object\n",
       "NEIGHBORHOOD                object\n",
       "COMMUNITY                   object\n",
       "WARD                       float64\n",
       "ZONING                      object\n",
       "LANDUSE                     object\n",
       "PARCEL_AREA_SQFT           float64\n",
       "X                          float64\n",
       "Y                          float64\n",
       "PROPERTY_TYPE               object\n",
       "LANDVALUE                    int64\n",
       "BUILDINGVALUE                int64\n",
       "TOTALVALUE                   int64\n",
       "MULTIPLE_USES               object\n",
       "EXEMPTSTATUS                object\n",
       "HOMESTEAD                   object\n",
       "BUILDINGUSE                 object\n",
       "TOTAL_UNITS                float64\n",
       "BEDROOMS                     int64\n",
       "TAXPAYER_ADDRESS_STREET     object\n",
       "dtype: object"
      ]
     },
     "execution_count": 10,
     "metadata": {},
     "output_type": "execute_result"
    }
   ],
   "source": [
    "corporates.dtypes"
   ]
  },
  {
   "cell_type": "code",
   "execution_count": 11,
   "metadata": {},
   "outputs": [
    {
     "data": {
      "text/plain": [
       "APN                                     102824230137\n",
       "ANUMBER                                         3309\n",
       "ST_NAME                               LONGFELLOW AVE\n",
       "AUNIT                                            NaN\n",
       "ZIPCODE                                   55407-2341\n",
       "FORMATTED_ADDRESS                3309 LONGFELLOW AVE\n",
       "OWNERNAME                              SAI ZHEN YANG\n",
       "TAXPAYER1                              SAI ZHEN YANG\n",
       "TAXPAYER2                          159 WATERFORD CIR\n",
       "TAXPAYER3                            WINONA MN 55987\n",
       "TAXPAYER4                                        NaN\n",
       "NEIGHBORHOOD                                CORCORAN\n",
       "COMMUNITY                                 POWDERHORN\n",
       "WARD                                             9.0\n",
       "ZONING                                           R2B\n",
       "LANDUSE                    SINGLE-FAMILY DETACHED DW\n",
       "PARCEL_AREA_SQFT                              6255.0\n",
       "X                                      535630.838646\n",
       "Y                                      155228.902733\n",
       "PROPERTY_TYPE                            RESIDENTIAL\n",
       "LANDVALUE                                      37200\n",
       "BUILDINGVALUE                                 211800\n",
       "TOTALVALUE                                    249000\n",
       "MULTIPLE_USES                                     NO\n",
       "EXEMPTSTATUS                              NOT EXEMPT\n",
       "HOMESTEAD                            NON-HOMESTEADED\n",
       "BUILDINGUSE                        SINGLE FAM. DWLG.\n",
       "TOTAL_UNITS                                      1.0\n",
       "BEDROOMS                                           3\n",
       "TAXPAYER_ADDRESS_STREET            159 WATERFORD CIR\n",
       "Name: 3, dtype: object"
      ]
     },
     "execution_count": 11,
     "metadata": {},
     "output_type": "execute_result"
    }
   ],
   "source": [
    "# sample record\n",
    "corporates.loc[3]"
   ]
  },
  {
   "cell_type": "markdown",
   "metadata": {},
   "source": [
    "## Top rental property owners in Minneapolis"
   ]
  },
  {
   "cell_type": "code",
   "execution_count": 12,
   "metadata": {},
   "outputs": [
    {
     "data": {
      "text/html": [
       "<div>\n",
       "<style scoped>\n",
       "    .dataframe tbody tr th:only-of-type {\n",
       "        vertical-align: middle;\n",
       "    }\n",
       "\n",
       "    .dataframe tbody tr th {\n",
       "        vertical-align: top;\n",
       "    }\n",
       "\n",
       "    .dataframe thead th {\n",
       "        text-align: right;\n",
       "    }\n",
       "</style>\n",
       "<table border=\"1\" class=\"dataframe\">\n",
       "  <thead>\n",
       "    <tr style=\"text-align: right;\">\n",
       "      <th></th>\n",
       "      <th>OWNERNAME</th>\n",
       "      <th>% city rentals</th>\n",
       "    </tr>\n",
       "  </thead>\n",
       "  <tbody>\n",
       "    <tr>\n",
       "      <th>FYR SFR BORROWER LLC (FRONT YARD RESIDENTIAL CORP)</th>\n",
       "      <td>227</td>\n",
       "      <td>0.732707</td>\n",
       "    </tr>\n",
       "    <tr>\n",
       "      <th>J &amp; M HOMES LLC</th>\n",
       "      <td>139</td>\n",
       "      <td>0.448662</td>\n",
       "    </tr>\n",
       "    <tr>\n",
       "      <th>CARPATHIAN CAPITAL MANAGEMENT</th>\n",
       "      <td>114</td>\n",
       "      <td>0.367967</td>\n",
       "    </tr>\n",
       "    <tr>\n",
       "      <th>JAMES EISCHENS</th>\n",
       "      <td>105</td>\n",
       "      <td>0.338917</td>\n",
       "    </tr>\n",
       "    <tr>\n",
       "      <th>DANIEL GELB</th>\n",
       "      <td>98</td>\n",
       "      <td>0.316323</td>\n",
       "    </tr>\n",
       "    <tr>\n",
       "      <th>HAAG PROPERTIES LLC</th>\n",
       "      <td>91</td>\n",
       "      <td>0.293728</td>\n",
       "    </tr>\n",
       "    <tr>\n",
       "      <th>DAVID A &amp; BARBARA HORNIG</th>\n",
       "      <td>84</td>\n",
       "      <td>0.271134</td>\n",
       "    </tr>\n",
       "    <tr>\n",
       "      <th>CHAD/MATT KRAFT</th>\n",
       "      <td>79</td>\n",
       "      <td>0.254995</td>\n",
       "    </tr>\n",
       "    <tr>\n",
       "      <th>KEN WELCH III/ASSERTIVE MPLS PROPS LLC</th>\n",
       "      <td>79</td>\n",
       "      <td>0.254995</td>\n",
       "    </tr>\n",
       "    <tr>\n",
       "      <th>TODD HANSEN/COPENHAGEN ENTERPRISES</th>\n",
       "      <td>78</td>\n",
       "      <td>0.251767</td>\n",
       "    </tr>\n",
       "    <tr>\n",
       "      <th>PROJECT FOR PRIDE IN LIVING</th>\n",
       "      <td>66</td>\n",
       "      <td>0.213034</td>\n",
       "    </tr>\n",
       "    <tr>\n",
       "      <th>AEON</th>\n",
       "      <td>62</td>\n",
       "      <td>0.200123</td>\n",
       "    </tr>\n",
       "    <tr>\n",
       "      <th>INVITATION HOMES INC</th>\n",
       "      <td>60</td>\n",
       "      <td>0.193667</td>\n",
       "    </tr>\n",
       "    <tr>\n",
       "      <th>KLP REAL ESTATE LLC</th>\n",
       "      <td>59</td>\n",
       "      <td>0.190439</td>\n",
       "    </tr>\n",
       "    <tr>\n",
       "      <th>BRIAN R HARA</th>\n",
       "      <td>58</td>\n",
       "      <td>0.187212</td>\n",
       "    </tr>\n",
       "    <tr>\n",
       "      <th>TRELLIS CO/COMMUNITY HOUSING DEVELOPMENT CORPORATION</th>\n",
       "      <td>56</td>\n",
       "      <td>0.180756</td>\n",
       "    </tr>\n",
       "    <tr>\n",
       "      <th>THOMAS WOLFE/REALTY PROS</th>\n",
       "      <td>55</td>\n",
       "      <td>0.177528</td>\n",
       "    </tr>\n",
       "    <tr>\n",
       "      <th>ROSS HERMAN/HERMAN REALTY INC</th>\n",
       "      <td>55</td>\n",
       "      <td>0.177528</td>\n",
       "    </tr>\n",
       "    <tr>\n",
       "      <th>COMMON BOND COMMUNITIES</th>\n",
       "      <td>53</td>\n",
       "      <td>0.171073</td>\n",
       "    </tr>\n",
       "    <tr>\n",
       "      <th>TIM HARMSEN</th>\n",
       "      <td>52</td>\n",
       "      <td>0.167845</td>\n",
       "    </tr>\n",
       "  </tbody>\n",
       "</table>\n",
       "</div>"
      ],
      "text/plain": [
       "                                                    OWNERNAME  % city rentals\n",
       "FYR SFR BORROWER LLC (FRONT YARD RESIDENTIAL CORP)        227        0.732707\n",
       "J & M HOMES LLC                                           139        0.448662\n",
       "CARPATHIAN CAPITAL MANAGEMENT                             114        0.367967\n",
       "JAMES EISCHENS                                            105        0.338917\n",
       "DANIEL GELB                                                98        0.316323\n",
       "HAAG PROPERTIES LLC                                        91        0.293728\n",
       "DAVID A & BARBARA HORNIG                                   84        0.271134\n",
       "CHAD/MATT KRAFT                                            79        0.254995\n",
       "KEN WELCH III/ASSERTIVE MPLS PROPS LLC                     79        0.254995\n",
       "TODD HANSEN/COPENHAGEN ENTERPRISES                         78        0.251767\n",
       "PROJECT FOR PRIDE IN LIVING                                66        0.213034\n",
       "AEON                                                       62        0.200123\n",
       "INVITATION HOMES INC                                       60        0.193667\n",
       "KLP REAL ESTATE LLC                                        59        0.190439\n",
       "BRIAN R HARA                                               58        0.187212\n",
       "TRELLIS CO/COMMUNITY HOUSING DEVELOPMENT CORPOR...         56        0.180756\n",
       "THOMAS WOLFE/REALTY PROS                                   55        0.177528\n",
       "ROSS HERMAN/HERMAN REALTY INC                              55        0.177528\n",
       "COMMON BOND COMMUNITIES                                    53        0.171073\n",
       "TIM HARMSEN                                                52        0.167845"
      ]
     },
     "execution_count": 12,
     "metadata": {},
     "output_type": "execute_result"
    }
   ],
   "source": [
    "top_corporates = corporates['OWNERNAME'].value_counts()[:20]\n",
    "top_corporates = pd.DataFrame(top_corporates)\n",
    "top_corporates['% city rentals'] = (top_corporates['OWNERNAME'] / corporates.shape[0]) * 100\n",
    "top_corporates"
   ]
  },
  {
   "cell_type": "code",
   "execution_count": 13,
   "metadata": {},
   "outputs": [
    {
     "data": {
      "text/html": [
       "<div>\n",
       "<style scoped>\n",
       "    .dataframe tbody tr th:only-of-type {\n",
       "        vertical-align: middle;\n",
       "    }\n",
       "\n",
       "    .dataframe tbody tr th {\n",
       "        vertical-align: top;\n",
       "    }\n",
       "\n",
       "    .dataframe thead th {\n",
       "        text-align: right;\n",
       "    }\n",
       "</style>\n",
       "<table border=\"1\" class=\"dataframe\">\n",
       "  <thead>\n",
       "    <tr style=\"text-align: right;\">\n",
       "      <th></th>\n",
       "      <th>count</th>\n",
       "      <th>sum</th>\n",
       "      <th>median</th>\n",
       "      <th>mean</th>\n",
       "    </tr>\n",
       "    <tr>\n",
       "      <th>OWNERNAME</th>\n",
       "      <th></th>\n",
       "      <th></th>\n",
       "      <th></th>\n",
       "      <th></th>\n",
       "    </tr>\n",
       "  </thead>\n",
       "  <tbody>\n",
       "    <tr>\n",
       "      <th>FYR SFR BORROWER LLC (FRONT YARD RESIDENTIAL CORP)</th>\n",
       "      <td>227</td>\n",
       "      <td>36093000</td>\n",
       "      <td>154500.0</td>\n",
       "      <td>159000.0</td>\n",
       "    </tr>\n",
       "    <tr>\n",
       "      <th>J &amp; M HOMES LLC</th>\n",
       "      <td>139</td>\n",
       "      <td>26949500</td>\n",
       "      <td>174500.0</td>\n",
       "      <td>193881.0</td>\n",
       "    </tr>\n",
       "    <tr>\n",
       "      <th>CARPATHIAN CAPITAL MANAGEMENT</th>\n",
       "      <td>114</td>\n",
       "      <td>16473000</td>\n",
       "      <td>127250.0</td>\n",
       "      <td>144500.0</td>\n",
       "    </tr>\n",
       "    <tr>\n",
       "      <th>JAMES EISCHENS</th>\n",
       "      <td>105</td>\n",
       "      <td>60607900</td>\n",
       "      <td>307000.0</td>\n",
       "      <td>577218.0</td>\n",
       "    </tr>\n",
       "    <tr>\n",
       "      <th>DANIEL GELB</th>\n",
       "      <td>98</td>\n",
       "      <td>13867000</td>\n",
       "      <td>128250.0</td>\n",
       "      <td>141500.0</td>\n",
       "    </tr>\n",
       "    <tr>\n",
       "      <th>HAAG PROPERTIES LLC</th>\n",
       "      <td>91</td>\n",
       "      <td>9182100</td>\n",
       "      <td>98500.0</td>\n",
       "      <td>100902.0</td>\n",
       "    </tr>\n",
       "    <tr>\n",
       "      <th>DAVID A &amp; BARBARA HORNIG</th>\n",
       "      <td>84</td>\n",
       "      <td>244431000</td>\n",
       "      <td>2406500.0</td>\n",
       "      <td>2909893.0</td>\n",
       "    </tr>\n",
       "    <tr>\n",
       "      <th>KEN WELCH III/ASSERTIVE MPLS PROPS LLC</th>\n",
       "      <td>79</td>\n",
       "      <td>10634000</td>\n",
       "      <td>135000.0</td>\n",
       "      <td>134608.0</td>\n",
       "    </tr>\n",
       "    <tr>\n",
       "      <th>CHAD/MATT KRAFT</th>\n",
       "      <td>79</td>\n",
       "      <td>45209500</td>\n",
       "      <td>367000.0</td>\n",
       "      <td>572272.0</td>\n",
       "    </tr>\n",
       "    <tr>\n",
       "      <th>TODD HANSEN/COPENHAGEN ENTERPRISES</th>\n",
       "      <td>78</td>\n",
       "      <td>23849500</td>\n",
       "      <td>83000.0</td>\n",
       "      <td>305763.0</td>\n",
       "    </tr>\n",
       "    <tr>\n",
       "      <th>PROJECT FOR PRIDE IN LIVING</th>\n",
       "      <td>66</td>\n",
       "      <td>68620000</td>\n",
       "      <td>489250.0</td>\n",
       "      <td>1039697.0</td>\n",
       "    </tr>\n",
       "    <tr>\n",
       "      <th>AEON</th>\n",
       "      <td>62</td>\n",
       "      <td>187422400</td>\n",
       "      <td>1492000.0</td>\n",
       "      <td>3022942.0</td>\n",
       "    </tr>\n",
       "    <tr>\n",
       "      <th>INVITATION HOMES INC</th>\n",
       "      <td>60</td>\n",
       "      <td>16618500</td>\n",
       "      <td>269750.0</td>\n",
       "      <td>276975.0</td>\n",
       "    </tr>\n",
       "    <tr>\n",
       "      <th>KLP REAL ESTATE LLC</th>\n",
       "      <td>59</td>\n",
       "      <td>24440600</td>\n",
       "      <td>367000.0</td>\n",
       "      <td>414247.0</td>\n",
       "    </tr>\n",
       "    <tr>\n",
       "      <th>BRIAN R HARA</th>\n",
       "      <td>58</td>\n",
       "      <td>11621500</td>\n",
       "      <td>176000.0</td>\n",
       "      <td>200371.0</td>\n",
       "    </tr>\n",
       "    <tr>\n",
       "      <th>TRELLIS CO/COMMUNITY HOUSING DEVELOPMENT CORPORATION</th>\n",
       "      <td>56</td>\n",
       "      <td>149510600</td>\n",
       "      <td>1141750.0</td>\n",
       "      <td>2669832.0</td>\n",
       "    </tr>\n",
       "    <tr>\n",
       "      <th>ROSS HERMAN/HERMAN REALTY INC</th>\n",
       "      <td>55</td>\n",
       "      <td>8806500</td>\n",
       "      <td>149000.0</td>\n",
       "      <td>160118.0</td>\n",
       "    </tr>\n",
       "    <tr>\n",
       "      <th>THOMAS WOLFE/REALTY PROS</th>\n",
       "      <td>55</td>\n",
       "      <td>9276000</td>\n",
       "      <td>135000.0</td>\n",
       "      <td>168655.0</td>\n",
       "    </tr>\n",
       "    <tr>\n",
       "      <th>COMMON BOND COMMUNITIES</th>\n",
       "      <td>53</td>\n",
       "      <td>144078500</td>\n",
       "      <td>979500.0</td>\n",
       "      <td>2718462.0</td>\n",
       "    </tr>\n",
       "    <tr>\n",
       "      <th>TIM HARMSEN</th>\n",
       "      <td>52</td>\n",
       "      <td>31139500</td>\n",
       "      <td>465500.0</td>\n",
       "      <td>598837.0</td>\n",
       "    </tr>\n",
       "  </tbody>\n",
       "</table>\n",
       "</div>"
      ],
      "text/plain": [
       "                                                    count        sum  \\\n",
       "OWNERNAME                                                              \n",
       "FYR SFR BORROWER LLC (FRONT YARD RESIDENTIAL CORP)    227   36093000   \n",
       "J & M HOMES LLC                                       139   26949500   \n",
       "CARPATHIAN CAPITAL MANAGEMENT                         114   16473000   \n",
       "JAMES EISCHENS                                        105   60607900   \n",
       "DANIEL GELB                                            98   13867000   \n",
       "HAAG PROPERTIES LLC                                    91    9182100   \n",
       "DAVID A & BARBARA HORNIG                               84  244431000   \n",
       "KEN WELCH III/ASSERTIVE MPLS PROPS LLC                 79   10634000   \n",
       "CHAD/MATT KRAFT                                        79   45209500   \n",
       "TODD HANSEN/COPENHAGEN ENTERPRISES                     78   23849500   \n",
       "PROJECT FOR PRIDE IN LIVING                            66   68620000   \n",
       "AEON                                                   62  187422400   \n",
       "INVITATION HOMES INC                                   60   16618500   \n",
       "KLP REAL ESTATE LLC                                    59   24440600   \n",
       "BRIAN R HARA                                           58   11621500   \n",
       "TRELLIS CO/COMMUNITY HOUSING DEVELOPMENT CORPOR...     56  149510600   \n",
       "ROSS HERMAN/HERMAN REALTY INC                          55    8806500   \n",
       "THOMAS WOLFE/REALTY PROS                               55    9276000   \n",
       "COMMON BOND COMMUNITIES                                53  144078500   \n",
       "TIM HARMSEN                                            52   31139500   \n",
       "\n",
       "                                                       median       mean  \n",
       "OWNERNAME                                                                 \n",
       "FYR SFR BORROWER LLC (FRONT YARD RESIDENTIAL CORP)   154500.0   159000.0  \n",
       "J & M HOMES LLC                                      174500.0   193881.0  \n",
       "CARPATHIAN CAPITAL MANAGEMENT                        127250.0   144500.0  \n",
       "JAMES EISCHENS                                       307000.0   577218.0  \n",
       "DANIEL GELB                                          128250.0   141500.0  \n",
       "HAAG PROPERTIES LLC                                   98500.0   100902.0  \n",
       "DAVID A & BARBARA HORNIG                            2406500.0  2909893.0  \n",
       "KEN WELCH III/ASSERTIVE MPLS PROPS LLC               135000.0   134608.0  \n",
       "CHAD/MATT KRAFT                                      367000.0   572272.0  \n",
       "TODD HANSEN/COPENHAGEN ENTERPRISES                    83000.0   305763.0  \n",
       "PROJECT FOR PRIDE IN LIVING                          489250.0  1039697.0  \n",
       "AEON                                                1492000.0  3022942.0  \n",
       "INVITATION HOMES INC                                 269750.0   276975.0  \n",
       "KLP REAL ESTATE LLC                                  367000.0   414247.0  \n",
       "BRIAN R HARA                                         176000.0   200371.0  \n",
       "TRELLIS CO/COMMUNITY HOUSING DEVELOPMENT CORPOR...  1141750.0  2669832.0  \n",
       "ROSS HERMAN/HERMAN REALTY INC                        149000.0   160118.0  \n",
       "THOMAS WOLFE/REALTY PROS                             135000.0   168655.0  \n",
       "COMMON BOND COMMUNITIES                              979500.0  2718462.0  \n",
       "TIM HARMSEN                                          465500.0   598837.0  "
      ]
     },
     "execution_count": 13,
     "metadata": {},
     "output_type": "execute_result"
    }
   ],
   "source": [
    "df = (corporates.groupby('OWNERNAME')['TOTALVALUE'] \n",
    "        .agg(['count','sum','mean','median'])\n",
    "        .sort_values(by='count',ascending=False)[:20])\n",
    "df['clean_mean'] = df['mean'].round()\n",
    "df.drop(axis=1,labels=['mean'],inplace=True)\n",
    "df.rename(columns={'clean_mean': 'mean'},inplace=True)\n",
    "df"
   ]
  },
  {
   "cell_type": "code",
   "execution_count": 14,
   "metadata": {},
   "outputs": [
    {
     "data": {
      "text/plain": [
       "1670"
      ]
     },
     "execution_count": 14,
     "metadata": {},
     "output_type": "execute_result"
    }
   ],
   "source": [
    "df['count'].sum() # How many rental properties these top 20 landlords own"
   ]
  },
  {
   "cell_type": "code",
   "execution_count": 15,
   "metadata": {},
   "outputs": [
    {
     "data": {
      "text/plain": [
       "(array([ 0,  1,  2,  3,  4,  5,  6,  7,  8,  9, 10, 11, 12, 13, 14, 15, 16,\n",
       "        17, 18, 19]),\n",
       " [Text(0, 0, 'FYR SFR BORROWER LLC (FRONT YARD RESIDENTIAL CORP)'),\n",
       "  Text(0, 1, 'J & M HOMES LLC'),\n",
       "  Text(0, 2, 'CARPATHIAN CAPITAL MANAGEMENT'),\n",
       "  Text(0, 3, 'JAMES EISCHENS'),\n",
       "  Text(0, 4, 'DANIEL GELB'),\n",
       "  Text(0, 5, 'HAAG PROPERTIES LLC'),\n",
       "  Text(0, 6, 'DAVID A & BARBARA HORNIG'),\n",
       "  Text(0, 7, 'CHAD/MATT KRAFT'),\n",
       "  Text(0, 8, 'KEN WELCH III/ASSERTIVE MPLS PROPS LLC'),\n",
       "  Text(0, 9, 'TODD HANSEN/COPENHAGEN ENTERPRISES'),\n",
       "  Text(0, 10, 'PROJECT FOR PRIDE IN LIVING'),\n",
       "  Text(0, 11, 'AEON'),\n",
       "  Text(0, 12, 'INVITATION HOMES INC'),\n",
       "  Text(0, 13, 'KLP REAL ESTATE LLC'),\n",
       "  Text(0, 14, 'BRIAN R HARA'),\n",
       "  Text(0, 15, 'TRELLIS CO/COMMUNITY HOUSING DEVELOPMENT CORPORATION'),\n",
       "  Text(0, 16, 'THOMAS WOLFE/REALTY PROS'),\n",
       "  Text(0, 17, 'ROSS HERMAN/HERMAN REALTY INC'),\n",
       "  Text(0, 18, 'COMMON BOND COMMUNITIES'),\n",
       "  Text(0, 19, 'TIM HARMSEN')])"
      ]
     },
     "execution_count": 15,
     "metadata": {},
     "output_type": "execute_result"
    },
    {
     "data": {
      "image/png": "[encoded data removed]",
      "text/plain": [
       "<Figure size 1152x576 with 1 Axes>"
      ]
     },
     "metadata": {
      "needs_background": "light"
     },
     "output_type": "display_data"
    }
   ],
   "source": [
    "plt.figure(figsize = (16,8))\n",
    "\n",
    "sns.barplot(x=top_corporates['OWNERNAME'], y=top_corporates.index)\n",
    "plt.title('Top owners of Minneapolis rental properties (2020)', fontsize=24)\n",
    "plt.xlabel('Properties owned',fontsize=18)\n",
    "plt.xticks(fontsize=18)\n",
    "plt.yticks(fontsize=18)"
   ]
  },
  {
   "cell_type": "markdown",
   "metadata": {},
   "source": [
    "## Single family homes used as rental properties\n",
    "* Number/% of properties owned by corporate owners (total)\n",
    "* Number/% of properties owned by corporate owners (by neighborhood)"
   ]
  },
  {
   "cell_type": "code",
   "execution_count": 16,
   "metadata": {},
   "outputs": [],
   "source": [
    "# Segment out landlord/corporate vs all single family homes\n",
    "sfam_types = ['SINGLE FAM. DWLG.', 'SGL. DWLG. W/TUCK UNDER', 'SPLIT LEVEL SNG. DWLG.', 'SPLIT ENTRY SGL. DWLG.']\n",
    "\n",
    "corporate_sfam = corporates[corporates['BUILDINGUSE'].isin(sfam_types)] # 13573 properties\n",
    "all_properties_sfam = all_properties[all_properties['BUILDINGUSE'].isin(sfam_types)] # 74689 properties"
   ]
  },
  {
   "cell_type": "code",
   "execution_count": 17,
   "metadata": {},
   "outputs": [
    {
     "data": {
      "text/plain": [
       "39"
      ]
     },
     "execution_count": 17,
     "metadata": {},
     "output_type": "execute_result"
    }
   ],
   "source": [
    "# Segment out mom and pop single family home landlords\n",
    "mom_pop_sfam = all_properties_sfam[(all_properties_sfam['TOTAL_UNITS'] > 1) & (all_properties_sfam['HOMESTEAD'] == 'HOMESTEADED')]\n",
    "mom_pop_sfam.shape[0] # Only 39 sfam properties owned by true mom and pop"
   ]
  },
  {
   "cell_type": "code",
   "execution_count": 18,
   "metadata": {},
   "outputs": [
    {
     "data": {
      "text/plain": [
       "18.2"
      ]
     },
     "execution_count": 18,
     "metadata": {},
     "output_type": "execute_result"
    }
   ],
   "source": [
    "# Proportion of single family properties that are rentals\n",
    "pct_sfam_rented = round((corporate_sfam.shape[0] / all_properties_sfam.shape[0]) * 100,1)\n",
    "pct_sfam_rented"
   ]
  },
  {
   "cell_type": "code",
   "execution_count": 19,
   "metadata": {},
   "outputs": [
    {
     "data": {
      "text/plain": [
       "Text(0.5, 1.0, 'Ownership of single-family Minneapolis properties (2020)')"
      ]
     },
     "execution_count": 19,
     "metadata": {},
     "output_type": "execute_result"
    },
    {
     "data": {
      "image/png": "[encoded data removed]",
      "text/plain": [
       "<Figure size 432x288 with 1 Axes>"
      ]
     },
     "metadata": {},
     "output_type": "display_data"
    }
   ],
   "source": [
    "plt.pie([corporate_sfam.shape[0],all_properties_sfam.shape[0] - corporate_sfam.shape[0]],\n",
    "       labels=['Corporate owned', 'Owned by residents'])\n",
    "plt.title(\"Ownership of single-family Minneapolis properties (2020)\")"
   ]
  },
  {
   "cell_type": "markdown",
   "metadata": {},
   "source": [
    "## Differences in single family rentals by neighborhood"
   ]
  },
  {
   "cell_type": "code",
   "execution_count": 20,
   "metadata": {},
   "outputs": [
    {
     "data": {
      "text/html": [
       "<div>\n",
       "<style scoped>\n",
       "    .dataframe tbody tr th:only-of-type {\n",
       "        vertical-align: middle;\n",
       "    }\n",
       "\n",
       "    .dataframe tbody tr th {\n",
       "        vertical-align: top;\n",
       "    }\n",
       "\n",
       "    .dataframe thead th {\n",
       "        text-align: right;\n",
       "    }\n",
       "</style>\n",
       "<table border=\"1\" class=\"dataframe\">\n",
       "  <thead>\n",
       "    <tr style=\"text-align: right;\">\n",
       "      <th></th>\n",
       "      <th>Houses_corporate</th>\n",
       "      <th>neighborhood</th>\n",
       "      <th>Houses_all</th>\n",
       "      <th>pct_rentals</th>\n",
       "    </tr>\n",
       "  </thead>\n",
       "  <tbody>\n",
       "    <tr>\n",
       "      <th>0</th>\n",
       "      <td>233</td>\n",
       "      <td>ARMATAGE</td>\n",
       "      <td>1863</td>\n",
       "      <td>12.5</td>\n",
       "    </tr>\n",
       "    <tr>\n",
       "      <th>1</th>\n",
       "      <td>205</td>\n",
       "      <td>AUDUBON PARK</td>\n",
       "      <td>1651</td>\n",
       "      <td>12.4</td>\n",
       "    </tr>\n",
       "    <tr>\n",
       "      <th>2</th>\n",
       "      <td>135</td>\n",
       "      <td>BANCROFT</td>\n",
       "      <td>1022</td>\n",
       "      <td>13.2</td>\n",
       "    </tr>\n",
       "    <tr>\n",
       "      <th>3</th>\n",
       "      <td>58</td>\n",
       "      <td>BELTRAMI</td>\n",
       "      <td>203</td>\n",
       "      <td>28.6</td>\n",
       "    </tr>\n",
       "    <tr>\n",
       "      <th>4</th>\n",
       "      <td>45</td>\n",
       "      <td>BOTTINEAU</td>\n",
       "      <td>206</td>\n",
       "      <td>21.8</td>\n",
       "    </tr>\n",
       "  </tbody>\n",
       "</table>\n",
       "</div>"
      ],
      "text/plain": [
       "   Houses_corporate  neighborhood  Houses_all  pct_rentals\n",
       "0               233      ARMATAGE        1863         12.5\n",
       "1               205  AUDUBON PARK        1651         12.4\n",
       "2               135      BANCROFT        1022         13.2\n",
       "3                58      BELTRAMI         203         28.6\n",
       "4                45     BOTTINEAU         206         21.8"
      ]
     },
     "execution_count": 20,
     "metadata": {},
     "output_type": "execute_result"
    }
   ],
   "source": [
    "# Get counts of rental vs all sfam properties by neighborhood\n",
    "neighborhood_sfam_corporate = pd.DataFrame(corporate_sfam.groupby('NEIGHBORHOOD')['APN'].count())\n",
    "neighborhood_sfam_all = pd.DataFrame(all_properties_sfam.groupby('NEIGHBORHOOD')['APN'].count())\n",
    "\n",
    "# Clean up the tables\n",
    "neighborhood_sfam_corporate.rename(columns={'APN': 'Houses'}, inplace=True)\n",
    "neighborhood_sfam_all.rename(columns={'APN': 'Houses'}, inplace=True)\n",
    "neighborhood_sfam_all['neighborhood'] = neighborhood_sfam_all.index\n",
    "neighborhood_sfam_corporate['neighborhood'] = neighborhood_sfam_corporate.index\n",
    "\n",
    "# Merge into a neighborhood tables\n",
    "sfams_by_neighborhood = neighborhood_sfam_corporate.merge(neighborhood_sfam_all, on='neighborhood', how='outer', \n",
    "                                 suffixes=['_corporate', '_all'])\n",
    "sfams_by_neighborhood['pct_rentals'] = round((sfams_by_neighborhood['Houses_corporate'] / sfams_by_neighborhood['Houses_all']) * 100,1)\n",
    "sfams_by_neighborhood.head()"
   ]
  },
  {
   "cell_type": "code",
   "execution_count": 21,
   "metadata": {},
   "outputs": [],
   "source": [
    "# Get top and bottom 5 neighborhoods by %age of rentals\n",
    "nhood_lowest = sfams_by_neighborhood.sort_values(by='pct_rentals')[:5]\n",
    "nhood_highest = sfams_by_neighborhood[sfams_by_neighborhood['Houses_all'] >= 10].sort_values(by='pct_rentals', ascending=False)[:5]"
   ]
  },
  {
   "cell_type": "code",
   "execution_count": 22,
   "metadata": {},
   "outputs": [
    {
     "data": {
      "text/html": [
       "<div>\n",
       "<style scoped>\n",
       "    .dataframe tbody tr th:only-of-type {\n",
       "        vertical-align: middle;\n",
       "    }\n",
       "\n",
       "    .dataframe tbody tr th {\n",
       "        vertical-align: top;\n",
       "    }\n",
       "\n",
       "    .dataframe thead th {\n",
       "        text-align: right;\n",
       "    }\n",
       "</style>\n",
       "<table border=\"1\" class=\"dataframe\">\n",
       "  <thead>\n",
       "    <tr style=\"text-align: right;\">\n",
       "      <th></th>\n",
       "      <th>Houses_corporate</th>\n",
       "      <th>neighborhood</th>\n",
       "      <th>Houses_all</th>\n",
       "      <th>pct_rentals</th>\n",
       "    </tr>\n",
       "  </thead>\n",
       "  <tbody>\n",
       "    <tr>\n",
       "      <th>57</th>\n",
       "      <td>51</td>\n",
       "      <td>PAGE</td>\n",
       "      <td>636</td>\n",
       "      <td>8.0</td>\n",
       "    </tr>\n",
       "    <tr>\n",
       "      <th>53</th>\n",
       "      <td>1</td>\n",
       "      <td>NICOLLET IS/EAST BANK</td>\n",
       "      <td>12</td>\n",
       "      <td>8.3</td>\n",
       "    </tr>\n",
       "    <tr>\n",
       "      <th>26</th>\n",
       "      <td>116</td>\n",
       "      <td>HALE</td>\n",
       "      <td>1192</td>\n",
       "      <td>9.7</td>\n",
       "    </tr>\n",
       "    <tr>\n",
       "      <th>16</th>\n",
       "      <td>199</td>\n",
       "      <td>DIAMOND LAKE</td>\n",
       "      <td>2005</td>\n",
       "      <td>9.9</td>\n",
       "    </tr>\n",
       "    <tr>\n",
       "      <th>56</th>\n",
       "      <td>159</td>\n",
       "      <td>NORTHROP</td>\n",
       "      <td>1592</td>\n",
       "      <td>10.0</td>\n",
       "    </tr>\n",
       "  </tbody>\n",
       "</table>\n",
       "</div>"
      ],
      "text/plain": [
       "    Houses_corporate           neighborhood  Houses_all  pct_rentals\n",
       "57                51                   PAGE         636          8.0\n",
       "53                 1  NICOLLET IS/EAST BANK          12          8.3\n",
       "26               116                   HALE        1192          9.7\n",
       "16               199           DIAMOND LAKE        2005          9.9\n",
       "56               159               NORTHROP        1592         10.0"
      ]
     },
     "execution_count": 22,
     "metadata": {},
     "output_type": "execute_result"
    }
   ],
   "source": [
    "nhood_lowest"
   ]
  },
  {
   "cell_type": "code",
   "execution_count": 23,
   "metadata": {},
   "outputs": [
    {
     "data": {
      "text/plain": [
       "(array([0, 1, 2, 3, 4]),\n",
       " [Text(0, 0, 'PAGE'),\n",
       "  Text(0, 1, 'NICOLLET IS/EAST BANK'),\n",
       "  Text(0, 2, 'HALE'),\n",
       "  Text(0, 3, 'DIAMOND LAKE'),\n",
       "  Text(0, 4, 'NORTHROP')])"
      ]
     },
     "execution_count": 23,
     "metadata": {},
     "output_type": "execute_result"
    },
    {
     "data": {
      "image/png": "[encoded data removed]",
      "text/plain": [
       "<Figure size 864x432 with 1 Axes>"
      ]
     },
     "metadata": {
      "needs_background": "light"
     },
     "output_type": "display_data"
    }
   ],
   "source": [
    "plt.figure(figsize = (12,6))\n",
    "\n",
    "sns.barplot(x=nhood_lowest['pct_rentals'], y=nhood_lowest['neighborhood'],palette='RdPu')\n",
    "plt.title('Neighborhoods with fewest single-family rentals (2020)', fontsize=20)\n",
    "plt.xlabel('Percent owned by landlords',fontsize=18)\n",
    "plt.ylabel('')\n",
    "plt.xticks(fontsize=18)\n",
    "plt.yticks(fontsize=18)"
   ]
  },
  {
   "cell_type": "code",
   "execution_count": 24,
   "metadata": {},
   "outputs": [
    {
     "data": {
      "text/plain": [
       "350500.0"
      ]
     },
     "execution_count": 24,
     "metadata": {},
     "output_type": "execute_result"
    }
   ],
   "source": [
    "# Median house price in low-rental neighborhoods\n",
    "all_properties[all_properties['NEIGHBORHOOD'].isin(nhood_lowest['neighborhood'])]['TOTALVALUE'].median()"
   ]
  },
  {
   "cell_type": "code",
   "execution_count": 25,
   "metadata": {},
   "outputs": [
    {
     "data": {
      "text/plain": [
       "175500.0"
      ]
     },
     "execution_count": 25,
     "metadata": {},
     "output_type": "execute_result"
    }
   ],
   "source": [
    "# Median house price in high-rental neighborhoods\n",
    "all_properties[all_properties['NEIGHBORHOOD'].isin(nhood_highest['neighborhood'])]['TOTALVALUE'].median()"
   ]
  },
  {
   "cell_type": "code",
   "execution_count": 26,
   "metadata": {},
   "outputs": [
    {
     "data": {
      "text/plain": [
       "Text(0.5, 0, 'Percent owned by landlords')"
      ]
     },
     "execution_count": 26,
     "metadata": {},
     "output_type": "execute_result"
    },
    {
     "data": {
      "image/png": "[encoded data removed]",
      "text/plain": [
       "<Figure size 1152x576 with 1 Axes>"
      ]
     },
     "metadata": {
      "needs_background": "light"
     },
     "output_type": "display_data"
    }
   ],
   "source": [
    "plt.figure(figsize = (16,8))\n",
    "\n",
    "sns.barplot(x=nhood_highest['pct_rentals'], y=nhood_highest['neighborhood'], palette='PuRd')\n",
    "\n",
    "plt.title('Neighborhoods with most corporate ownership of single-family housing (2020)', fontsize=24)\n",
    "plt.xlabel('Percent owned by landlords',fontsize=20)"
   ]
  },
  {
   "cell_type": "markdown",
   "metadata": {},
   "source": [
    "## Number of distinct corporations to file taxes used by single owners\n",
    "* How many owners use more than one entities (other people, LLCs, etc) to register their properties?"
   ]
  },
  {
   "cell_type": "code",
   "execution_count": 27,
   "metadata": {},
   "outputs": [
    {
     "data": {
      "text/html": [
       "<div>\n",
       "<style scoped>\n",
       "    .dataframe tbody tr th:only-of-type {\n",
       "        vertical-align: middle;\n",
       "    }\n",
       "\n",
       "    .dataframe tbody tr th {\n",
       "        vertical-align: top;\n",
       "    }\n",
       "\n",
       "    .dataframe thead th {\n",
       "        text-align: right;\n",
       "    }\n",
       "</style>\n",
       "<table border=\"1\" class=\"dataframe\">\n",
       "  <thead>\n",
       "    <tr style=\"text-align: right;\">\n",
       "      <th></th>\n",
       "      <th>TAXPAYER1</th>\n",
       "    </tr>\n",
       "    <tr>\n",
       "      <th>OWNERNAME</th>\n",
       "      <th></th>\n",
       "    </tr>\n",
       "  </thead>\n",
       "  <tbody>\n",
       "    <tr>\n",
       "      <th>DAVID A &amp; BARBARA HORNIG</th>\n",
       "      <td>53</td>\n",
       "    </tr>\n",
       "    <tr>\n",
       "      <th>CHAD/MATT KRAFT</th>\n",
       "      <td>37</td>\n",
       "    </tr>\n",
       "    <tr>\n",
       "      <th>FIRST SERVICE RESIDENTIAL</th>\n",
       "      <td>34</td>\n",
       "    </tr>\n",
       "    <tr>\n",
       "      <th>2615 PARK AVE ASSN (CO-OP)</th>\n",
       "      <td>31</td>\n",
       "    </tr>\n",
       "    <tr>\n",
       "      <th>JAMES EISCHENS</th>\n",
       "      <td>30</td>\n",
       "    </tr>\n",
       "    <tr>\n",
       "      <th>JAMES R RUBIN/MINT PROPERTIES</th>\n",
       "      <td>27</td>\n",
       "    </tr>\n",
       "    <tr>\n",
       "      <th>INNOVATIVE PROPERTIES LLC</th>\n",
       "      <td>26</td>\n",
       "    </tr>\n",
       "    <tr>\n",
       "      <th>PROJECT FOR PRIDE IN LIVING</th>\n",
       "      <td>25</td>\n",
       "    </tr>\n",
       "    <tr>\n",
       "      <th>KLEINMAN REALTY CO.</th>\n",
       "      <td>24</td>\n",
       "    </tr>\n",
       "    <tr>\n",
       "      <th>WALKER RESIDENCE INC</th>\n",
       "      <td>21</td>\n",
       "    </tr>\n",
       "    <tr>\n",
       "      <th>TRELLIS CO/COMMUNITY HOUSING DEVELOPMENT CORPORATION</th>\n",
       "      <td>20</td>\n",
       "    </tr>\n",
       "    <tr>\n",
       "      <th>FRANKLIN STUDENT HSG CO-OP</th>\n",
       "      <td>19</td>\n",
       "    </tr>\n",
       "    <tr>\n",
       "      <th>ALAN J SPAULDING/AT HOME APARTMENTS</th>\n",
       "      <td>18</td>\n",
       "    </tr>\n",
       "    <tr>\n",
       "      <th>NORTH BAY COMPANIES</th>\n",
       "      <td>18</td>\n",
       "    </tr>\n",
       "    <tr>\n",
       "      <th>COMMON BOND COMMUNITIES</th>\n",
       "      <td>16</td>\n",
       "    </tr>\n",
       "    <tr>\n",
       "      <th>TIM HARMSEN</th>\n",
       "      <td>15</td>\n",
       "    </tr>\n",
       "    <tr>\n",
       "      <th>CLARK A GASSEN</th>\n",
       "      <td>15</td>\n",
       "    </tr>\n",
       "    <tr>\n",
       "      <th>GEORGE N &amp; CATHERINE W PUZAK</th>\n",
       "      <td>14</td>\n",
       "    </tr>\n",
       "    <tr>\n",
       "      <th>BECKETWOOD CO-OP</th>\n",
       "      <td>12</td>\n",
       "    </tr>\n",
       "    <tr>\n",
       "      <th>ROBERT M ANDERSON TRUSTEE</th>\n",
       "      <td>11</td>\n",
       "    </tr>\n",
       "  </tbody>\n",
       "</table>\n",
       "</div>"
      ],
      "text/plain": [
       "                                                    TAXPAYER1\n",
       "OWNERNAME                                                    \n",
       "DAVID A & BARBARA HORNIG                                   53\n",
       "CHAD/MATT KRAFT                                            37\n",
       "FIRST SERVICE RESIDENTIAL                                  34\n",
       "2615 PARK AVE ASSN (CO-OP)                                 31\n",
       "JAMES EISCHENS                                             30\n",
       "JAMES R RUBIN/MINT PROPERTIES                              27\n",
       "INNOVATIVE PROPERTIES LLC                                  26\n",
       "PROJECT FOR PRIDE IN LIVING                                25\n",
       "KLEINMAN REALTY CO.                                        24\n",
       "WALKER RESIDENCE INC                                       21\n",
       "TRELLIS CO/COMMUNITY HOUSING DEVELOPMENT CORPOR...         20\n",
       "FRANKLIN STUDENT HSG CO-OP                                 19\n",
       "ALAN J SPAULDING/AT HOME APARTMENTS                        18\n",
       "NORTH BAY COMPANIES                                        18\n",
       "COMMON BOND COMMUNITIES                                    16\n",
       "TIM HARMSEN                                                15\n",
       "CLARK A GASSEN                                             15\n",
       "GEORGE N & CATHERINE W PUZAK                               14\n",
       "BECKETWOOD CO-OP                                           12\n",
       "ROBERT M ANDERSON TRUSTEE                                  11"
      ]
     },
     "execution_count": 27,
     "metadata": {},
     "output_type": "execute_result"
    }
   ],
   "source": [
    "top20_alias_users = (pd.DataFrame(corporates\n",
    "              .groupby('OWNERNAME')['TAXPAYER1']\n",
    "              .nunique()\n",
    "              .sort_values(ascending=False)[:20]))\n",
    "\n",
    "aliases = top20_alias_users.sort_values(by='TAXPAYER1',ascending=False)\n",
    "aliases"
   ]
  },
  {
   "cell_type": "code",
   "execution_count": 28,
   "metadata": {},
   "outputs": [
    {
     "data": {
      "text/plain": [
       "(array([ 0,  1,  2,  3,  4,  5,  6,  7,  8,  9, 10, 11, 12, 13, 14, 15, 16,\n",
       "        17, 18, 19]),\n",
       " [Text(0, 0, 'DAVID A & BARBARA HORNIG'),\n",
       "  Text(0, 1, 'CHAD/MATT KRAFT'),\n",
       "  Text(0, 2, 'FIRST SERVICE RESIDENTIAL'),\n",
       "  Text(0, 3, '2615 PARK AVE ASSN (CO-OP)'),\n",
       "  Text(0, 4, 'JAMES EISCHENS'),\n",
       "  Text(0, 5, 'JAMES R RUBIN/MINT PROPERTIES'),\n",
       "  Text(0, 6, 'INNOVATIVE PROPERTIES LLC'),\n",
       "  Text(0, 7, 'PROJECT FOR PRIDE IN LIVING'),\n",
       "  Text(0, 8, 'KLEINMAN REALTY CO.'),\n",
       "  Text(0, 9, 'WALKER RESIDENCE INC'),\n",
       "  Text(0, 10, 'TRELLIS CO/COMMUNITY HOUSING DEVELOPMENT CORPORATION'),\n",
       "  Text(0, 11, 'FRANKLIN STUDENT HSG CO-OP'),\n",
       "  Text(0, 12, 'ALAN J SPAULDING/AT HOME APARTMENTS'),\n",
       "  Text(0, 13, 'NORTH BAY COMPANIES'),\n",
       "  Text(0, 14, 'COMMON BOND COMMUNITIES'),\n",
       "  Text(0, 15, 'TIM HARMSEN'),\n",
       "  Text(0, 16, 'CLARK A GASSEN'),\n",
       "  Text(0, 17, 'GEORGE N & CATHERINE W PUZAK'),\n",
       "  Text(0, 18, 'BECKETWOOD CO-OP'),\n",
       "  Text(0, 19, 'ROBERT M ANDERSON TRUSTEE')])"
      ]
     },
     "execution_count": 28,
     "metadata": {},
     "output_type": "execute_result"
    },
    {
     "data": {
      "image/png": "[encoded data removed]",
      "text/plain": [
       "<Figure size 1152x576 with 1 Axes>"
      ]
     },
     "metadata": {
      "needs_background": "light"
     },
     "output_type": "display_data"
    }
   ],
   "source": [
    "plt.figure(figsize = (16,8))\n",
    "\n",
    "sns.barplot(x=aliases['TAXPAYER1'], y=aliases.index)\n",
    "plt.title('Top Minneapolis landlords with aliases (2020)', fontsize=24)\n",
    "plt.xlabel('Aliases',fontsize=18)\n",
    "plt.ylabel('')\n",
    "plt.xticks(fontsize=18)\n",
    "plt.yticks(fontsize=18)"
   ]
  },
  {
   "cell_type": "code",
   "execution_count": 29,
   "metadata": {},
   "outputs": [],
   "source": [
    "alias_users = pd.DataFrame(corporates.groupby('OWNERNAME')['TAXPAYER1'].nunique()).sort_values(by=\"TAXPAYER1\", ascending=False)"
   ]
  },
  {
   "cell_type": "code",
   "execution_count": 30,
   "metadata": {},
   "outputs": [
    {
     "data": {
      "text/html": [
       "<div>\n",
       "<style scoped>\n",
       "    .dataframe tbody tr th:only-of-type {\n",
       "        vertical-align: middle;\n",
       "    }\n",
       "\n",
       "    .dataframe tbody tr th {\n",
       "        vertical-align: top;\n",
       "    }\n",
       "\n",
       "    .dataframe thead th {\n",
       "        text-align: right;\n",
       "    }\n",
       "</style>\n",
       "<table border=\"1\" class=\"dataframe\">\n",
       "  <thead>\n",
       "    <tr style=\"text-align: right;\">\n",
       "      <th></th>\n",
       "      <th>TAXPAYER1</th>\n",
       "    </tr>\n",
       "    <tr>\n",
       "      <th>OWNERNAME</th>\n",
       "      <th></th>\n",
       "    </tr>\n",
       "  </thead>\n",
       "  <tbody>\n",
       "    <tr>\n",
       "      <th>DAVID A &amp; BARBARA HORNIG</th>\n",
       "      <td>53</td>\n",
       "    </tr>\n",
       "    <tr>\n",
       "      <th>CHAD/MATT KRAFT</th>\n",
       "      <td>37</td>\n",
       "    </tr>\n",
       "    <tr>\n",
       "      <th>FIRST SERVICE RESIDENTIAL</th>\n",
       "      <td>34</td>\n",
       "    </tr>\n",
       "    <tr>\n",
       "      <th>2615 PARK AVE ASSN (CO-OP)</th>\n",
       "      <td>31</td>\n",
       "    </tr>\n",
       "    <tr>\n",
       "      <th>JAMES EISCHENS</th>\n",
       "      <td>30</td>\n",
       "    </tr>\n",
       "  </tbody>\n",
       "</table>\n",
       "</div>"
      ],
      "text/plain": [
       "                            TAXPAYER1\n",
       "OWNERNAME                            \n",
       "DAVID A & BARBARA HORNIG           53\n",
       "CHAD/MATT KRAFT                    37\n",
       "FIRST SERVICE RESIDENTIAL          34\n",
       "2615 PARK AVE ASSN (CO-OP)         31\n",
       "JAMES EISCHENS                     30"
      ]
     },
     "execution_count": 30,
     "metadata": {},
     "output_type": "execute_result"
    }
   ],
   "source": [
    "alias_users = alias_users[(alias_users['TAXPAYER1'] > 1) & alias_users.index]\n",
    "alias_users.head()"
   ]
  },
  {
   "cell_type": "code",
   "execution_count": 31,
   "metadata": {},
   "outputs": [
    {
     "data": {
      "text/plain": [
       "TAXPAYER1    2961\n",
       "dtype: int64"
      ]
     },
     "execution_count": 31,
     "metadata": {},
     "output_type": "execute_result"
    }
   ],
   "source": [
    "alias_users.sum() # Total number of aliases used by landlords with more than one alias"
   ]
  },
  {
   "cell_type": "code",
   "execution_count": 32,
   "metadata": {},
   "outputs": [
    {
     "data": {
      "text/plain": [
       "852"
      ]
     },
     "execution_count": 32,
     "metadata": {},
     "output_type": "execute_result"
    }
   ],
   "source": [
    "alias_users.shape[0] # Total number of landlords using more than one alias"
   ]
  },
  {
   "cell_type": "code",
   "execution_count": 33,
   "metadata": {},
   "outputs": [
    {
     "data": {
      "text/plain": [
       "GOPHER INVESTMENT LLC           23\n",
       "COMO INVSTMNT PROPERTIES LLC     8\n",
       "HENN FIN ACQUISTIONS II LLC      5\n",
       "1110/1114 13TH AVE SE LLC        3\n",
       "K & R STRATEGIC INVTMT LLC       3\n",
       "1202 COMO SE LLC                 3\n",
       "GOGOPHER RENTALS LLC             2\n",
       "1607 COMO AVE SE LLC             2\n",
       "1424 & 1428 6TH ST SE LLC        2\n",
       "CLUSTER DINKYTOWN LLC            1\n",
       "1105 6TH ST SE LLC               1\n",
       "915 6TH ST SE LLC                1\n",
       "2624 ESSEX PARTNERS LLC          1\n",
       "PROSPECT MARCY PROPERTIES        1\n",
       "1107 8TH ST SE LLC               1\n",
       "1120 4TH ST SE LLC               1\n",
       "GRAY JAX INVESTMENTS LLC         1\n",
       "501 8TH ST SE LLC                1\n",
       "528 14TH AVE SE LLC              1\n",
       "629 6TH ST SE LLC                1\n",
       "518 12TH AVE SE LLC              1\n",
       "NORTHSTAR GA LLC ET AL           1\n",
       "1027 13TH AVE SE LLC             1\n",
       "813 12TH AVE SE LLC              1\n",
       "412 4TH ST SE LLC                1\n",
       "1018 13TH AVE SE LLC             1\n",
       "1424-1428 6TH SE LLC             1\n",
       "1025 15TH AVE SE LLC             1\n",
       "867 22ND AVE S E LLC             1\n",
       "913-915 22ND AVE SE LLC          1\n",
       "1806 SPE LLC                     1\n",
       "864 18TH AVE SE LLC              1\n",
       "856 18TH AVE SE LLC              1\n",
       "1078 18TH AVE SE LLC             1\n",
       "1015 21ST LLC                    1\n",
       "1058 24TH AVE SE LLC             1\n",
       "1300 GRAND LLC                   1\n",
       "Name: TAXPAYER1, dtype: int64"
      ]
     },
     "execution_count": 33,
     "metadata": {},
     "output_type": "execute_result"
    }
   ],
   "source": [
    "# Example of a landlord with many aliases\n",
    "corporates[corporates['OWNERNAME'] == 'CHAD/MATT KRAFT'][['OWNERNAME','TAXPAYER1']]['TAXPAYER1'].value_counts()"
   ]
  },
  {
   "cell_type": "markdown",
   "metadata": {},
   "source": [
    "## How many housing units are owned by landlords vs owner-occupants/residents?"
   ]
  },
  {
   "cell_type": "code",
   "execution_count": 34,
   "metadata": {},
   "outputs": [
    {
     "name": "stdout",
     "output_type": "stream",
     "text": [
      "82798.0\n"
     ]
    }
   ],
   "source": [
    "resident_owned = all_properties[all_properties['HOMESTEAD'] == 'HOMESTEADED']\n",
    "resident_units = resident_owned['TOTAL_UNITS'].sum()\n",
    "print(resident_units)"
   ]
  },
  {
   "cell_type": "code",
   "execution_count": 35,
   "metadata": {},
   "outputs": [
    {
     "name": "stdout",
     "output_type": "stream",
     "text": [
      "114203.0\n"
     ]
    }
   ],
   "source": [
    "corporate_units = corporates['TOTAL_UNITS'].sum()\n",
    "print(corporate_units)"
   ]
  },
  {
   "cell_type": "code",
   "execution_count": 36,
   "metadata": {},
   "outputs": [],
   "source": [
    "all_units = resident_units + corporate_units"
   ]
  },
  {
   "cell_type": "code",
   "execution_count": 37,
   "metadata": {},
   "outputs": [
    {
     "name": "stdout",
     "output_type": "stream",
     "text": [
      "Proportion of Minneapolis housing units owned by residents: 42%.\n",
      "Proportion of Minneapolis housing units owned by landlords: 58%.\n"
     ]
    }
   ],
   "source": [
    "print(f'Proportion of Minneapolis housing units owned by residents: {round((resident_units / all_units)*100)}%.')\n",
    "print(f'Proportion of Minneapolis housing units owned by landlords: {round((corporate_units / all_units)*100)}%.')"
   ]
  },
  {
   "cell_type": "markdown",
   "metadata": {},
   "source": [
    "## How many rental units are true “mom and pop” (owned by someone who lives in same building)?"
   ]
  },
  {
   "cell_type": "code",
   "execution_count": 38,
   "metadata": {},
   "outputs": [],
   "source": [
    "mom_pop = all_properties[(all_properties['TOTAL_UNITS'] > 1) & (all_properties['HOMESTEAD'] == 'HOMESTEADED')]"
   ]
  },
  {
   "cell_type": "code",
   "execution_count": 39,
   "metadata": {},
   "outputs": [
    {
     "name": "stdout",
     "output_type": "stream",
     "text": [
      "4790\n"
     ]
    }
   ],
   "source": [
    "mom_pop_properties = mom_pop.shape[0]\n",
    "print(mom_pop_properties)"
   ]
  },
  {
   "cell_type": "code",
   "execution_count": 40,
   "metadata": {},
   "outputs": [
    {
     "data": {
      "text/plain": [
       "5389.0"
      ]
     },
     "execution_count": 40,
     "metadata": {},
     "output_type": "execute_result"
    }
   ],
   "source": [
    "# Assuming that each property has one unit occupied by owner, remainder is add'l units\n",
    "mom_units = mom_pop['TOTAL_UNITS'].sum() - mom_pop_properties\n",
    "mom_units"
   ]
  },
  {
   "cell_type": "code",
   "execution_count": 41,
   "metadata": {},
   "outputs": [
    {
     "data": {
      "text/plain": [
       "2.7"
      ]
     },
     "execution_count": 41,
     "metadata": {},
     "output_type": "execute_result"
    }
   ],
   "source": [
    "round(mom_units / all_units * 100,1) # % of residential units rented by mom and pop landlords"
   ]
  },
  {
   "cell_type": "markdown",
   "metadata": {},
   "source": [
    "## How much real estate is public housing?"
   ]
  },
  {
   "cell_type": "code",
   "execution_count": 42,
   "metadata": {},
   "outputs": [
    {
     "data": {
      "text/plain": [
       "859"
      ]
     },
     "execution_count": 42,
     "metadata": {},
     "output_type": "execute_result"
    }
   ],
   "source": [
    "city_owners = ['MPLS PUBLIC HOUSING AUTH', 'CITY OF MINNEAPOLIS', 'MINNEAPOLIS PUBLIC HSG AUTH', \n",
    "               'MPLS PUBLIC HSG AUTHORITY', 'MPLS PUBLIC HSG AUTH', 'MPLS PARK & RECREATION BOARD', \n",
    "               'MPLS PUBLIC HSG ATHY', 'HENNEPIN FORFEITED LAND', 'MINNEAPOLIS PUBLIC HSNG AUTH'\n",
    "               'HENN CTY HSG & RDVLPT ATHY', 'HENN CO HSG & REDEV AUTH', 'MPLS PARK BOARD', 'HENNEPIN COUNTY',\n",
    "               'HENNEPIN FORFEITED LAND', 'MPLS PUBLIC HSG AUTH/MPLS', 'MPLS PUB HSG AUTH/CITY MPLS', \n",
    "               'MPLS PUBLIC HSG AUTH', 'MPLS PUBLIC HOUSING', 'MPLS PUBLIC HOUSING AUTHORTY', \n",
    "               'MPLS PUB HSNG AUTH FOR MPLS', 'CITY OF MPLS PK BD', 'CITY OF MPLS PARK BOARD',\n",
    "               'MINNEAPOLIS PUBLIC HSNG AUTH']\n",
    "\n",
    "city_owned = all_properties[all_properties['OWNERNAME'].isin(city_owners)]\n",
    "\n",
    "city_owned.shape[0] # Number of city owned properties"
   ]
  },
  {
   "cell_type": "code",
   "execution_count": 43,
   "metadata": {},
   "outputs": [
    {
     "name": "stdout",
     "output_type": "stream",
     "text": [
      "5700.0\n"
     ]
    }
   ],
   "source": [
    "city_units = city_owned['TOTAL_UNITS'].sum()\n",
    "print(city_units) # Number of city owned rental units"
   ]
  },
  {
   "cell_type": "code",
   "execution_count": 44,
   "metadata": {},
   "outputs": [
    {
     "data": {
      "text/plain": [
       "2.9"
      ]
     },
     "execution_count": 44,
     "metadata": {},
     "output_type": "execute_result"
    }
   ],
   "source": [
    "# % of rental units that are city owned\n",
    "round(city_units / all_units * 100,1)"
   ]
  },
  {
   "cell_type": "markdown",
   "metadata": {},
   "source": [
    "## How many rental units are owned by “small time” landlords (<4 properties)?"
   ]
  },
  {
   "cell_type": "code",
   "execution_count": 45,
   "metadata": {},
   "outputs": [],
   "source": [
    "owner_props = corporates.groupby('OWNERNAME')['APN'].count() # APN is unique property id "
   ]
  },
  {
   "cell_type": "code",
   "execution_count": 46,
   "metadata": {},
   "outputs": [
    {
     "data": {
      "text/plain": [
       "22828"
      ]
     },
     "execution_count": 46,
     "metadata": {},
     "output_type": "execute_result"
    }
   ],
   "source": [
    "owner_props[owner_props < 4].sum() # Properties with \"big time\" landlords (4+ properties)"
   ]
  },
  {
   "cell_type": "code",
   "execution_count": 47,
   "metadata": {},
   "outputs": [
    {
     "data": {
      "text/plain": [
       "8152"
      ]
     },
     "execution_count": 47,
     "metadata": {},
     "output_type": "execute_result"
    }
   ],
   "source": [
    "owner_props[owner_props > 3].sum() # Properties with \"small time\" landlords (3 or fewer properties)"
   ]
  },
  {
   "cell_type": "markdown",
   "metadata": {},
   "source": [
    "### How many of these rental units are single family houses? What kind of landlords are they owned by?"
   ]
  },
  {
   "cell_type": "code",
   "execution_count": 48,
   "metadata": {},
   "outputs": [],
   "source": [
    "c_sfam_properties = corporate_sfam.groupby('OWNERNAME')['APN'].count()"
   ]
  },
  {
   "cell_type": "code",
   "execution_count": 49,
   "metadata": {},
   "outputs": [
    {
     "data": {
      "text/plain": [
       "13572"
      ]
     },
     "execution_count": 49,
     "metadata": {},
     "output_type": "execute_result"
    }
   ],
   "source": [
    "c_sfam_properties.sum() # Total number of single-family rental properties"
   ]
  },
  {
   "cell_type": "code",
   "execution_count": 50,
   "metadata": {},
   "outputs": [
    {
     "data": {
      "text/plain": [
       "11027"
      ]
     },
     "execution_count": 50,
     "metadata": {},
     "output_type": "execute_result"
    }
   ],
   "source": [
    "c_sfam_properties[c_sfam_properties < 4].sum() # Properties with \"small time\" landlords (3 or fewer properties)"
   ]
  },
  {
   "cell_type": "code",
   "execution_count": 51,
   "metadata": {},
   "outputs": [
    {
     "data": {
      "text/plain": [
       "2545"
      ]
     },
     "execution_count": 51,
     "metadata": {},
     "output_type": "execute_result"
    }
   ],
   "source": [
    "c_sfam_properties[c_sfam_properties > 3].sum() # Properties with \"big time\" landlords (4+ properties)"
   ]
  },
  {
   "cell_type": "markdown",
   "metadata": {},
   "source": [
    "## How much real estate wealth for residential units is owned by people who use it for profit?"
   ]
  },
  {
   "cell_type": "code",
   "execution_count": 52,
   "metadata": {},
   "outputs": [
    {
     "name": "stdout",
     "output_type": "stream",
     "text": [
      "19.5167768\n"
     ]
    }
   ],
   "source": [
    "# Owned by landlords\n",
    "c_value = corporates['TOTALVALUE'].sum()\n",
    "c_value_bil = c_value / 1000000000\n",
    "print(c_value_bil) # Billion"
   ]
  },
  {
   "cell_type": "code",
   "execution_count": 53,
   "metadata": {},
   "outputs": [
    {
     "name": "stdout",
     "output_type": "stream",
     "text": [
      "45.6285472\n"
     ]
    }
   ],
   "source": [
    "# All residential properties\n",
    "all_value = all_properties['TOTALVALUE'].sum()\n",
    "all_value_bil = all_value / 1000000000\n",
    "print(all_value_bil) # Billion"
   ]
  },
  {
   "cell_type": "code",
   "execution_count": 54,
   "metadata": {},
   "outputs": [
    {
     "name": "stdout",
     "output_type": "stream",
     "text": [
      "25.963505\n"
     ]
    }
   ],
   "source": [
    "# Resident owned\n",
    "r_value = resident_owned['TOTALVALUE'].sum()\n",
    "r_value_bil = r_value / 1000000000\n",
    "print(r_value_bil) # Billion"
   ]
  },
  {
   "cell_type": "code",
   "execution_count": 55,
   "metadata": {},
   "outputs": [
    {
     "name": "stdout",
     "output_type": "stream",
     "text": [
      "0.1514154\n"
     ]
    }
   ],
   "source": [
    "# City owned\n",
    "city_value = city_owned['TOTALVALUE'].sum()\n",
    "city_value_bil = city_value / 1000000000\n",
    "print(city_value_bil) # Billion"
   ]
  },
  {
   "cell_type": "code",
   "execution_count": 56,
   "metadata": {},
   "outputs": [
    {
     "data": {
      "text/plain": [
       "<AxesSubplot:>"
      ]
     },
     "execution_count": 56,
     "metadata": {},
     "output_type": "execute_result"
    },
    {
     "data": {
      "image/png": "[encoded data removed]",
      "text/plain": [
       "<Figure size 432x288 with 1 Axes>"
      ]
     },
     "metadata": {
      "needs_background": "light"
     },
     "output_type": "display_data"
    }
   ],
   "source": [
    "labels = ['landlords', 'residents', 'public housing','all owners']\n",
    "values = [c_value_bil,r_value_bil,city_value_bil,all_value_bil]\n",
    "\n",
    "sns.barplot(x=values,y=labels, palette='RdPu')"
   ]
  },
  {
   "cell_type": "code",
   "execution_count": 57,
   "metadata": {},
   "outputs": [
    {
     "data": {
      "text/plain": [
       "45631697200"
      ]
     },
     "execution_count": 57,
     "metadata": {},
     "output_type": "execute_result"
    }
   ],
   "source": [
    "# Check that the values add up to total residential real estate value\n",
    "c_value + r_value + city_value"
   ]
  },
  {
   "cell_type": "markdown",
   "metadata": {},
   "source": [
    "## Export corporate owners data (cleaned)"
   ]
  },
  {
   "cell_type": "code",
   "execution_count": 58,
   "metadata": {},
   "outputs": [
    {
     "data": {
      "text/html": [
       "<div>\n",
       "<style scoped>\n",
       "    .dataframe tbody tr th:only-of-type {\n",
       "        vertical-align: middle;\n",
       "    }\n",
       "\n",
       "    .dataframe tbody tr th {\n",
       "        vertical-align: top;\n",
       "    }\n",
       "\n",
       "    .dataframe thead th {\n",
       "        text-align: right;\n",
       "    }\n",
       "</style>\n",
       "<table border=\"1\" class=\"dataframe\">\n",
       "  <thead>\n",
       "    <tr style=\"text-align: right;\">\n",
       "      <th></th>\n",
       "      <th>APN</th>\n",
       "      <th>FORMATTED_ADDRESS</th>\n",
       "      <th>OWNERNAME</th>\n",
       "      <th>TAXPAYER1</th>\n",
       "      <th>NEIGHBORHOOD</th>\n",
       "      <th>COMMUNITY</th>\n",
       "      <th>PROPERTY_TYPE</th>\n",
       "      <th>TOTALVALUE</th>\n",
       "      <th>HOMESTEAD</th>\n",
       "      <th>TOTAL_UNITS</th>\n",
       "    </tr>\n",
       "  </thead>\n",
       "  <tbody>\n",
       "    <tr>\n",
       "      <th>0</th>\n",
       "      <td>102824230128</td>\n",
       "      <td>3304 19TH AVE S</td>\n",
       "      <td>DOUGLAS R RYAN TRUSTEE</td>\n",
       "      <td>DOUGLAS RYAN</td>\n",
       "      <td>CORCORAN</td>\n",
       "      <td>POWDERHORN</td>\n",
       "      <td>DOUBLE BUNGALOW</td>\n",
       "      <td>218000</td>\n",
       "      <td>NON-HOMESTEADED</td>\n",
       "      <td>2.0</td>\n",
       "    </tr>\n",
       "    <tr>\n",
       "      <th>1</th>\n",
       "      <td>102824230129</td>\n",
       "      <td>3308 19TH AVE S</td>\n",
       "      <td>TC COMM HOUSING SERVICES LLC</td>\n",
       "      <td>TC COMM HOUSING SERVCS LLC</td>\n",
       "      <td>CORCORAN</td>\n",
       "      <td>POWDERHORN</td>\n",
       "      <td>APARTMENT</td>\n",
       "      <td>475000</td>\n",
       "      <td>NON-HOMESTEADED</td>\n",
       "      <td>4.0</td>\n",
       "    </tr>\n",
       "    <tr>\n",
       "      <th>2</th>\n",
       "      <td>102824230134</td>\n",
       "      <td>3319 LONGFELLOW AVE</td>\n",
       "      <td>RONALD A TANN JR</td>\n",
       "      <td>RONALD A TANN JR</td>\n",
       "      <td>CORCORAN</td>\n",
       "      <td>POWDERHORN</td>\n",
       "      <td>DOUBLE BUNGALOW</td>\n",
       "      <td>275000</td>\n",
       "      <td>NON-HOMESTEADED</td>\n",
       "      <td>2.0</td>\n",
       "    </tr>\n",
       "    <tr>\n",
       "      <th>3</th>\n",
       "      <td>102824230137</td>\n",
       "      <td>3309 LONGFELLOW AVE</td>\n",
       "      <td>SAI ZHEN YANG</td>\n",
       "      <td>SAI ZHEN YANG</td>\n",
       "      <td>CORCORAN</td>\n",
       "      <td>POWDERHORN</td>\n",
       "      <td>RESIDENTIAL</td>\n",
       "      <td>249000</td>\n",
       "      <td>NON-HOMESTEADED</td>\n",
       "      <td>1.0</td>\n",
       "    </tr>\n",
       "    <tr>\n",
       "      <th>4</th>\n",
       "      <td>102824230145</td>\n",
       "      <td>3320 LONGFELLOW AVE</td>\n",
       "      <td>LONNY G &amp; KATHRYN M DOUB</td>\n",
       "      <td>LONNY G DOUB/KATHRYN M DOUB</td>\n",
       "      <td>CORCORAN</td>\n",
       "      <td>POWDERHORN</td>\n",
       "      <td>APARTMENT</td>\n",
       "      <td>2922000</td>\n",
       "      <td>NON-HOMESTEADED</td>\n",
       "      <td>22.0</td>\n",
       "    </tr>\n",
       "  </tbody>\n",
       "</table>\n",
       "</div>"
      ],
      "text/plain": [
       "            APN    FORMATTED_ADDRESS                     OWNERNAME  \\\n",
       "0  102824230128      3304 19TH AVE S        DOUGLAS R RYAN TRUSTEE   \n",
       "1  102824230129      3308 19TH AVE S  TC COMM HOUSING SERVICES LLC   \n",
       "2  102824230134  3319 LONGFELLOW AVE              RONALD A TANN JR   \n",
       "3  102824230137  3309 LONGFELLOW AVE                 SAI ZHEN YANG   \n",
       "4  102824230145  3320 LONGFELLOW AVE      LONNY G & KATHRYN M DOUB   \n",
       "\n",
       "                     TAXPAYER1 NEIGHBORHOOD   COMMUNITY    PROPERTY_TYPE  \\\n",
       "0                 DOUGLAS RYAN     CORCORAN  POWDERHORN  DOUBLE BUNGALOW   \n",
       "1   TC COMM HOUSING SERVCS LLC     CORCORAN  POWDERHORN        APARTMENT   \n",
       "2             RONALD A TANN JR     CORCORAN  POWDERHORN  DOUBLE BUNGALOW   \n",
       "3                SAI ZHEN YANG     CORCORAN  POWDERHORN      RESIDENTIAL   \n",
       "4  LONNY G DOUB/KATHRYN M DOUB     CORCORAN  POWDERHORN        APARTMENT   \n",
       "\n",
       "   TOTALVALUE        HOMESTEAD  TOTAL_UNITS  \n",
       "0      218000  NON-HOMESTEADED          2.0  \n",
       "1      475000  NON-HOMESTEADED          4.0  \n",
       "2      275000  NON-HOMESTEADED          2.0  \n",
       "3      249000  NON-HOMESTEADED          1.0  \n",
       "4     2922000  NON-HOMESTEADED         22.0  "
      ]
     },
     "execution_count": 58,
     "metadata": {},
     "output_type": "execute_result"
    }
   ],
   "source": [
    "cols = ['APN', 'FORMATTED_ADDRESS', 'OWNERNAME', 'TAXPAYER1',\n",
    "       'NEIGHBORHOOD', 'COMMUNITY', 'PROPERTY_TYPE', 'TOTALVALUE',\n",
    "       'HOMESTEAD', 'TOTAL_UNITS'] \n",
    "\n",
    "corp_cleaned = corporates[cols]\n",
    "corp_cleaned.head()"
   ]
  },
  {
   "cell_type": "code",
   "execution_count": null,
   "metadata": {},
   "outputs": [],
   "source": [
    "corp_cleaned.to_csv('./data/final_landlords.csv',index=False)"
   ]
  }
 ],
 "metadata": {
  "kernelspec": {
   "display_name": "Python 3 (ipykernel)",
   "language": "python",
   "name": "python3"
  },
  "language_info": {
   "codemirror_mode": {
    "name": "ipython",
    "version": 3
   },
   "file_extension": ".py",
   "mimetype": "text/x-python",
   "name": "python",
   "nbconvert_exporter": "python",
   "pygments_lexer": "ipython3",
   "version": "3.8.5"
  }
 },
 "nbformat": 4,
 "nbformat_minor": 2
}
